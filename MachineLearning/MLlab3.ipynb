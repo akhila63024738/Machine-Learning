{
 "cells": [
  {
   "cell_type": "code",
   "execution_count": 2,
   "id": "e31e7243",
   "metadata": {},
   "outputs": [
    {
     "data": {
      "text/html": [
       "<div>\n",
       "<style scoped>\n",
       "    .dataframe tbody tr th:only-of-type {\n",
       "        vertical-align: middle;\n",
       "    }\n",
       "\n",
       "    .dataframe tbody tr th {\n",
       "        vertical-align: top;\n",
       "    }\n",
       "\n",
       "    .dataframe thead th {\n",
       "        text-align: right;\n",
       "    }\n",
       "</style>\n",
       "<table border=\"1\" class=\"dataframe\">\n",
       "  <thead>\n",
       "    <tr style=\"text-align: right;\">\n",
       "      <th></th>\n",
       "      <th>TV</th>\n",
       "      <th>Sales</th>\n",
       "    </tr>\n",
       "  </thead>\n",
       "  <tbody>\n",
       "    <tr>\n",
       "      <th>0</th>\n",
       "      <td>230.1</td>\n",
       "      <td>22.1</td>\n",
       "    </tr>\n",
       "    <tr>\n",
       "      <th>1</th>\n",
       "      <td>44.5</td>\n",
       "      <td>10.4</td>\n",
       "    </tr>\n",
       "    <tr>\n",
       "      <th>2</th>\n",
       "      <td>17.2</td>\n",
       "      <td>9.3</td>\n",
       "    </tr>\n",
       "    <tr>\n",
       "      <th>3</th>\n",
       "      <td>151.5</td>\n",
       "      <td>18.5</td>\n",
       "    </tr>\n",
       "    <tr>\n",
       "      <th>4</th>\n",
       "      <td>180.8</td>\n",
       "      <td>12.9</td>\n",
       "    </tr>\n",
       "    <tr>\n",
       "      <th>...</th>\n",
       "      <td>...</td>\n",
       "      <td>...</td>\n",
       "    </tr>\n",
       "    <tr>\n",
       "      <th>195</th>\n",
       "      <td>38.2</td>\n",
       "      <td>7.6</td>\n",
       "    </tr>\n",
       "    <tr>\n",
       "      <th>196</th>\n",
       "      <td>94.2</td>\n",
       "      <td>9.7</td>\n",
       "    </tr>\n",
       "    <tr>\n",
       "      <th>197</th>\n",
       "      <td>177.0</td>\n",
       "      <td>12.8</td>\n",
       "    </tr>\n",
       "    <tr>\n",
       "      <th>198</th>\n",
       "      <td>283.6</td>\n",
       "      <td>25.5</td>\n",
       "    </tr>\n",
       "    <tr>\n",
       "      <th>199</th>\n",
       "      <td>232.1</td>\n",
       "      <td>13.4</td>\n",
       "    </tr>\n",
       "  </tbody>\n",
       "</table>\n",
       "<p>200 rows × 2 columns</p>\n",
       "</div>"
      ],
      "text/plain": [
       "        TV  Sales\n",
       "0    230.1   22.1\n",
       "1     44.5   10.4\n",
       "2     17.2    9.3\n",
       "3    151.5   18.5\n",
       "4    180.8   12.9\n",
       "..     ...    ...\n",
       "195   38.2    7.6\n",
       "196   94.2    9.7\n",
       "197  177.0   12.8\n",
       "198  283.6   25.5\n",
       "199  232.1   13.4\n",
       "\n",
       "[200 rows x 2 columns]"
      ]
     },
     "execution_count": 2,
     "metadata": {},
     "output_type": "execute_result"
    }
   ],
   "source": [
    "import pandas as pd\n",
    "df=pd.read_csv(\"/home/rgukt-basar/MachineLearning/tvmarketing.csv\")\n",
    "df"
   ]
  },
  {
   "cell_type": "code",
   "execution_count": 5,
   "id": "f7138936",
   "metadata": {},
   "outputs": [
    {
     "data": {
      "text/plain": [
       "TV       float64\n",
       "Sales    float64\n",
       "dtype: object"
      ]
     },
     "execution_count": 5,
     "metadata": {},
     "output_type": "execute_result"
    }
   ],
   "source": [
    "#2. Check column data types\n",
    "df.dtypes"
   ]
  },
  {
   "cell_type": "code",
   "execution_count": 8,
   "id": "23c76e81",
   "metadata": {},
   "outputs": [
    {
     "name": "stdout",
     "output_type": "stream",
     "text": [
      "200\n",
      "2\n"
     ]
    }
   ],
   "source": [
    "#3. Check the shape of the Data Frame (rows, columns)\n",
    "print(df.shape[0])#rows\n",
    "print(df.shape[1])#columns"
   ]
  },
  {
   "cell_type": "code",
   "execution_count": null,
   "id": "e78e536f",
   "metadata": {},
   "outputs": [],
   "source": [
    "#4. Look at summary statistics\n"
   ]
  },
  {
   "cell_type": "code",
   "execution_count": 10,
   "id": "e91815cb",
   "metadata": {},
   "outputs": [
    {
     "data": {
      "text/plain": [
       "<matplotlib.collections.PathCollection at 0x7196349b2800>"
      ]
     },
     "execution_count": 10,
     "metadata": {},
     "output_type": "execute_result"
    },
    {
     "data": {
      "image/png": "[encoded data removed]",
      "text/plain": [
       "<Figure size 432x288 with 1 Axes>"
      ]
     },
     "metadata": {
      "needs_background": "light"
     },
     "output_type": "display_data"
    }
   ],
   "source": [
    "#5. Visualize the relationship between the features and the dependent variable using scatterplots\n",
    "import matplotlib.pyplot as plt\n",
    "plt.scatter(df.TV,df.Sales,color=\"red\")"
   ]
  },
  {
   "cell_type": "code",
   "execution_count": 13,
   "id": "27fbd3ba",
   "metadata": {},
   "outputs": [
    {
     "name": "stdout",
     "output_type": "stream",
     "text": [
      "X -VARIABLE \n",
      " 0      230.1\n",
      "1       44.5\n",
      "2       17.2\n",
      "3      151.5\n",
      "4      180.8\n",
      "       ...  \n",
      "195     38.2\n",
      "196     94.2\n",
      "197    177.0\n",
      "198    283.6\n",
      "199    232.1\n",
      "Name: TV, Length: 200, dtype: float64\n",
      "Y -VARIABLE \n",
      " 0      22.1\n",
      "1      10.4\n",
      "2       9.3\n",
      "3      18.5\n",
      "4      12.9\n",
      "       ... \n",
      "195     7.6\n",
      "196     9.7\n",
      "197    12.8\n",
      "198    25.5\n",
      "199    13.4\n",
      "Name: Sales, Length: 200, dtype: float64\n"
     ]
    }
   ],
   "source": [
    "#6. Prepare X (feature variables) and y (response variable)\n",
    "print(\"X -VARIABLE \\n\",df['TV'])\n",
    "print(\"Y -VARIABLE \\n\",df['Sales'])"
   ]
  },
  {
   "cell_type": "code",
   "execution_count": 47,
   "id": "391aa1ed",
   "metadata": {},
   "outputs": [],
   "source": [
    "#7. Split Data into Training and Testing Sets (70%-Train 30%-Test) - X_train,y_train, X_test, y_test\n",
    "from sklearn.model_selection import train_test_split\n",
    "x_train,y_train,x_test,y_test=train_test_split(df[['TV']],df['Sales'],test_size=0.2,random_state=42)"
   ]
  },
  {
   "cell_type": "code",
   "execution_count": 48,
   "id": "0d38b70e",
   "metadata": {},
   "outputs": [
    {
     "name": "stdout",
     "output_type": "stream",
     "text": [
      "(100, 1)\n",
      "(100, 1)\n",
      "(100,)\n",
      "(100,)\n"
     ]
    }
   ],
   "source": [
    "#8. Print the shape of train data and test data\n",
    "print(x_train.shape)\n",
    "print(y_train.shape)\n",
    "print(x_test.shape)\n",
    "print(y_test.shape)"
   ]
  },
  {
   "cell_type": "code",
   "execution_count": 52,
   "id": "8dfa8001",
   "metadata": {},
   "outputs": [],
   "source": [
    "#y_train = y_train.reshape(-1, 1)"
   ]
  },
  {
   "cell_type": "code",
   "execution_count": 53,
   "id": "463d8595",
   "metadata": {},
   "outputs": [
    {
     "name": "stdout",
     "output_type": "stream",
     "text": [
      "Computed Coefficients:\n",
      "Slope (m): 0.08677307916922247\n",
      "Intercept (b): 122.49874562228815\n"
     ]
    }
   ],
   "source": [
    "#9. Perform Linear Regression (on train data) without using any library and print the coefficients values\n",
    "import numpy as np\n",
    "\n",
    "# Assuming x_train and y_train are Pandas Series, convert them to NumPy arrays\n",
    "X = x_train.values.flatten()  # Convert (160,1) to (160,)\n",
    "Y = y_train.values.flatten()\n",
    "\n",
    "# Calculate the necessary summations\n",
    "n = len(X)  # Number of data points\n",
    "sum_X = np.sum(X)\n",
    "sum_Y = np.sum(Y)\n",
    "sum_XY = np.sum(X * Y)\n",
    "sum_X2 = np.sum(X ** 2)\n",
    "\n",
    "# Compute slope (m) and intercept (b)\n",
    "m = (n * sum_XY - sum_X * sum_Y) / (n * sum_X2 - sum_X ** 2)\n",
    "b = (sum_Y - m * sum_X) / n\n",
    "\n",
    "# Print the results\n",
    "print(f\"Computed Coefficients:\")\n",
    "print(f\"Slope (m): {m}\")\n",
    "print(f\"Intercept (b): {b}\")"
   ]
  },
  {
   "cell_type": "code",
   "execution_count": 69,
   "id": "be8800af",
   "metadata": {},
   "outputs": [
    {
     "name": "stdout",
     "output_type": "stream",
     "text": [
      "Predictions on test data:\n",
      "4      123.618118\n",
      "32     123.331767\n",
      "142    124.242885\n",
      "145    123.392508\n",
      "109    124.216853\n",
      "Name: Sales, dtype: float64\n"
     ]
    }
   ],
   "source": [
    "#10.Create the model using the calculated coefficients and make predictions on the testing set\n",
    "#x_test = x_test.squeeze()  # Convert DataFrame to Series if necessary\n",
    "\n",
    "# Compute predictions using the manually derived equation\n",
    "y_test_pred = m * x_test + b  # Apply the equation y = mX + b\n",
    "\n",
    "# Print the first few predictions\n",
    "print(\"Predictions on test data:\")\n",
    "print(y_test_pred.head())"
   ]
  },
  {
   "cell_type": "code",
   "execution_count": 70,
   "id": "cfc069a1",
   "metadata": {},
   "outputs": [],
   "source": [
    "#y_pre=model.predict(x_test)"
   ]
  },
  {
   "cell_type": "code",
   "execution_count": 73,
   "id": "6e5b5a81",
   "metadata": {},
   "outputs": [],
   "source": [
    "#11.Perform Linear Regression using library(sklearn)\n",
    "from sklearn.linear_model import LinearRegression\n",
    "model=LinearRegression()\n",
    "model.fit(x_train,y_train)\n"
   ]
  },
  {
   "cell_type": "code",
   "execution_count": 76,
   "id": "f4b926a4",
   "metadata": {},
   "outputs": [
    {
     "name": "stdout",
     "output_type": "stream",
     "text": [
      "[[0.08677308]]\n",
      "[122.49874562]\n",
      "[[138.18731834]\n",
      " [130.93308892]\n",
      " [141.63220958]\n",
      " [134.67300863]\n",
      " [144.66059004]\n",
      " [130.84631584]\n",
      " [128.23444616]\n",
      " [143.26354347]\n",
      " [137.74477563]\n",
      " [143.33296193]\n",
      " [124.05198374]\n",
      " [142.46523114]\n",
      " [147.10759087]\n",
      " [137.36297408]\n",
      " [139.77526568]\n",
      " [133.18051167]\n",
      " [133.8746963 ]\n",
      " [124.67674991]\n",
      " [136.68614407]\n",
      " [144.08788772]\n",
      " [140.07029415]\n",
      " [123.63547296]\n",
      " [122.85451525]\n",
      " [130.64673776]\n",
      " [145.31138814]\n",
      " [142.3090396 ]\n",
      " [144.52175312]\n",
      " [143.60195848]\n",
      " [143.30693001]\n",
      " [142.28300767]\n",
      " [141.18966688]\n",
      " [143.31560731]\n",
      " [131.81817433]\n",
      " [138.79472989]\n",
      " [140.4520957 ]\n",
      " [126.22998803]\n",
      " [135.64486712]\n",
      " [134.46475324]\n",
      " [138.34350988]\n",
      " [141.57146842]\n",
      " [136.08740982]\n",
      " [146.50885663]\n",
      " [140.28722685]\n",
      " [128.30386462]\n",
      " [129.12820887]\n",
      " [130.8029293 ]\n",
      " [132.92886974]\n",
      " [142.0921069 ]\n",
      " [124.98045569]\n",
      " [128.43402424]\n",
      " [144.05317849]\n",
      " [141.45866342]\n",
      " [132.02642972]\n",
      " [123.2449941 ]\n",
      " [130.95912084]\n",
      " [140.7818334 ]\n",
      " [136.77291715]\n",
      " [145.51096622]\n",
      " [146.9166901 ]\n",
      " [124.82426414]\n",
      " [146.52621124]\n",
      " [125.70067224]\n",
      " [140.44341839]\n",
      " [147.45468319]\n",
      " [131.41034085]\n",
      " [145.29403352]\n",
      " [130.34303198]\n",
      " [139.83600684]\n",
      " [130.67276968]\n",
      " [140.79051071]\n",
      " [142.21358921]\n",
      " [130.16080851]\n",
      " [143.09867462]\n",
      " [134.31723901]\n",
      " [137.46710178]\n",
      " [123.99124258]\n",
      " [127.67042114]\n",
      " [128.98069464]\n",
      " [135.49735288]\n",
      " [136.97249523]\n",
      " [126.36014765]\n",
      " [141.27643995]\n",
      " [126.37750226]\n",
      " [122.55948678]\n",
      " [132.9982882 ]\n",
      " [138.8034072 ]\n",
      " [134.23046593]\n",
      " [134.57755824]\n",
      " [132.10452549]\n",
      " [141.01612072]\n",
      " [124.13007951]\n",
      " [142.6387773 ]\n",
      " [141.44998611]\n",
      " [147.31584626]\n",
      " [132.02642972]\n",
      " [124.6680726 ]\n",
      " [140.20913108]\n",
      " [141.38924496]\n",
      " [136.86836753]\n",
      " [146.81256241]]\n"
     ]
    }
   ],
   "source": [
    "#12.Print the intercept and coefficients\n",
    "print(model.coef_)\n",
    "print(model.intercept_)\n",
    "y_pred=model.predict(x_train)\n",
    "print(y_pred)"
   ]
  },
  {
   "cell_type": "code",
   "execution_count": 78,
   "id": "c3668f93",
   "metadata": {},
   "outputs": [],
   "source": [
    "x_train = x_train.values.reshape(-1, 1)  # Convert to 2D\n",
    "x_test = x_test.values.reshape(-1, 1)    # Convert to 2D"
   ]
  },
  {
   "cell_type": "code",
   "execution_count": 1,
   "id": "da671790",
   "metadata": {},
   "outputs": [
    {
     "ename": "NameError",
     "evalue": "name 'model' is not defined",
     "output_type": "error",
     "traceback": [
      "\u001b[0;31m---------------------------------------------------------------------------\u001b[0m",
      "\u001b[0;31mNameError\u001b[0m                                 Traceback (most recent call last)",
      "\u001b[0;32m/tmp/ipykernel_5498/2844759565.py\u001b[0m in \u001b[0;36m<module>\u001b[0;34m\u001b[0m\n\u001b[1;32m      1\u001b[0m \u001b[0;31m#13.Make predictions on the testing set - y_pred\u001b[0m\u001b[0;34m\u001b[0m\u001b[0;34m\u001b[0m\u001b[0m\n\u001b[0;32m----> 2\u001b[0;31m \u001b[0my_pre\u001b[0m\u001b[0;34m=\u001b[0m\u001b[0mmodel\u001b[0m\u001b[0;34m.\u001b[0m\u001b[0mpredict\u001b[0m\u001b[0;34m(\u001b[0m\u001b[0mx_test\u001b[0m\u001b[0;34m)\u001b[0m\u001b[0;34m\u001b[0m\u001b[0;34m\u001b[0m\u001b[0m\n\u001b[0m",
      "\u001b[0;31mNameError\u001b[0m: name 'model' is not defined"
     ]
    }
   ],
   "source": [
    "#13.Make predictions on the testing set - y_pred\n",
    "y_pre=model.predict(x_test)"
   ]
  },
  {
   "cell_type": "code",
   "execution_count": 83,
   "id": "f5970ea1",
   "metadata": {},
   "outputs": [
    {
     "data": {
      "text/plain": [
       "[<matplotlib.lines.Line2D at 0x7195fe51e830>]"
      ]
     },
     "execution_count": 83,
     "metadata": {},
     "output_type": "execute_result"
    },
    {
     "data": {
      "image/png": "[encoded data removed]",
      "text/plain": [
       "<Figure size 432x288 with 1 Axes>"
      ]
     },
     "metadata": {
      "needs_background": "light"
     },
     "output_type": "display_data"
    }
   ],
   "source": [
    "#14.Plot train data and the model\n",
    "plt.scatter(x_train, y_train, color='blue', label='Training Data')\n",
    "plt.plot(x_train,y_pred,color=\"red\") "
   ]
  },
  {
   "cell_type": "code",
   "execution_count": 86,
   "id": "878e893b",
   "metadata": {},
   "outputs": [
    {
     "data": {
      "text/plain": [
       "[<matplotlib.lines.Line2D at 0x7195fe38a110>]"
      ]
     },
     "execution_count": 86,
     "metadata": {},
     "output_type": "execute_result"
    },
    {
     "data": {
      "image/png": "[encoded data removed]",
      "text/plain": [
       "<Figure size 432x288 with 1 Axes>"
      ]
     },
     "metadata": {
      "needs_background": "light"
     },
     "output_type": "display_data"
    }
   ],
   "source": [
    "#15.Plot test data and the model\n",
    "plt.scatter(x_test, y_test, color='blue', label='Training Data')\n",
    "plt.plot(x_test,y_pre,color=\"red\") "
   ]
  },
  {
   "cell_type": "code",
   "execution_count": 90,
   "id": "25aa96ef",
   "metadata": {},
   "outputs": [
    {
     "name": "stdout",
     "output_type": "stream",
     "text": [
      "Mean Squared Error (MSE): 7662.274253395801\n",
      "R Squared Value (R²): 0.006560439721265632\n"
     ]
    }
   ],
   "source": [
    "#16.Print Mean Squared Error and R Squared Value\n",
    "from sklearn.metrics import mean_squared_error, r2_score\n",
    "y_train_pred = m * x_train + b  # Using manually computed coefficients\n",
    "#print(y_train_pred)\n",
    "mse = mean_squared_error(y_train, y_train_pred)\n",
    "\n",
    "# Compute R Squared (R²) Score\n",
    "r2 = r2_score(y_train, y_train_pred)\n",
    "r22=r2_score(y_test,y_pre)\n",
    "# Print results\n",
    "print(\"Mean Squared Error (MSE):\", mse)\n",
    "print(\"R Squared Value (R²):\", r2)"
   ]
  },
  {
   "cell_type": "code",
   "execution_count": 91,
   "id": "9005c0db",
   "metadata": {},
   "outputs": [
    {
     "name": "stdout",
     "output_type": "stream",
     "text": [
      "1\n",
      "200\n",
      "0.0015430682047062882\n",
      "-466.93179892242915\n"
     ]
    }
   ],
   "source": [
    "#17.Calculate and print R Squared and Adjusted R Squared values without any library\n",
    "def adjust(r2,n,p):\n",
    "    return 1-((1-r2)*(n-1)/(n-p-1))\n",
    "p=x_train.shape[1]\n",
    "print(p)\n",
    "n1=x_train.shape[0]\n",
    "n2=x_test.shape[0]\n",
    "n=n1+n2\n",
    "print(n)\n",
    "a=adjust(r2,n,p)\n",
    "b=adjust(r22,n,p)\n",
    "print(a)\n",
    "print(b)"
   ]
  },
  {
   "cell_type": "code",
   "execution_count": null,
   "id": "fb4b010f",
   "metadata": {},
   "outputs": [],
   "source": []
  }
 ],
 "metadata": {
  "kernelspec": {
   "display_name": "Python 3 (ipykernel)",
   "language": "python",
   "name": "python3"
  },
  "language_info": {
   "codemirror_mode": {
    "name": "ipython",
    "version": 3
   },
   "file_extension": ".py",
   "mimetype": "text/x-python",
   "name": "python",
   "nbconvert_exporter": "python",
   "pygments_lexer": "ipython3",
   "version": "3.10.12"
  }
 },
 "nbformat": 4,
 "nbformat_minor": 5
}
